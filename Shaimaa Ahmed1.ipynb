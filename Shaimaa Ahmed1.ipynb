{
 "cells": [
  {
   "cell_type": "markdown",
   "id": "7a5b3703",
   "metadata": {},
   "source": [
    "# <h1 align = \"center\"><font color=Green>Python Fundamentals Exercise 01 </font></h1>"
   ]
  },
  {
   "cell_type": "markdown",
   "id": "595a57aa",
   "metadata": {},
   "source": [
    "<h3 align = \"center\"><font color=Green>Solve the following questions </font></h1>"
   ]
  },
  {
   "cell_type": "markdown",
   "id": "0b7c66d5",
   "metadata": {},
   "source": [
    "### question 1\n",
    "\n",
    ">\n",
    "> Create a summation calculator that takes two values from a user and print the summation of those two values.\n",
    "\n",
    "    Example\n",
    ">input\n",
    ">\n",
    "> x = 5\n",
    ">\n",
    "> y = 6\n",
    "\n",
    "\n",
    ">output\n",
    ">\n",
    ">z = 11\n"
   ]
  },
  {
   "cell_type": "code",
   "execution_count": 11,
   "id": "898e6c7e",
   "metadata": {},
   "outputs": [
    {
     "name": "stdout",
     "output_type": "stream",
     "text": [
      "z= 11\n"
     ]
    }
   ],
   "source": [
    "x=5\n",
    "y=6\n",
    "print(\"z=\", x+y)\n"
   ]
  },
  {
   "cell_type": "code",
   "execution_count": 12,
   "id": "7f2e0bb5-a095-4309-87f0-86c44feb6de1",
   "metadata": {},
   "outputs": [
    {
     "name": "stdin",
     "output_type": "stream",
     "text": [
      " 5\n",
      " 6\n"
     ]
    },
    {
     "name": "stdout",
     "output_type": "stream",
     "text": [
      "x is 5\n",
      "y is 6\n",
      "z= 11\n"
     ]
    }
   ],
   "source": [
    "x= int(input())\n",
    "y= int(input())\n",
    "print(f'x is {x}')\n",
    "print(f'y is {y}')\n",
    "#print(f'(x+y) is {x+y}')\n",
    "print(\"z=\", x+y)"
   ]
  },
  {
   "cell_type": "markdown",
   "id": "427ac6f1",
   "metadata": {},
   "source": [
    "***"
   ]
  },
  {
   "cell_type": "markdown",
   "id": "462ba485",
   "metadata": {},
   "source": [
    "### question 2\n",
    "\n",
    ">\n",
    "> Create a subtraction calculator that takes two values from a user and print the subtraction of those two values.\n",
    "\n",
    "    Example\n",
    ">input\n",
    ">\n",
    "> x = 5\n",
    ">\n",
    "> y = 6\n",
    "\n",
    "\n",
    ">output\n",
    ">\n",
    ">z = 1\n"
   ]
  },
  {
   "cell_type": "code",
   "execution_count": 13,
   "id": "0374f2b8",
   "metadata": {},
   "outputs": [
    {
     "name": "stdout",
     "output_type": "stream",
     "text": [
      "z= 1\n"
     ]
    }
   ],
   "source": [
    "x=5\n",
    "y=6\n",
    "print(\"z=\",y-x)\n"
   ]
  },
  {
   "cell_type": "code",
   "execution_count": 14,
   "id": "a89e6358-ecad-42e3-9e47-53b75be00714",
   "metadata": {},
   "outputs": [
    {
     "name": "stdin",
     "output_type": "stream",
     "text": [
      " 5\n",
      " 6\n"
     ]
    },
    {
     "name": "stdout",
     "output_type": "stream",
     "text": [
      "x is 5\n",
      "y is 6\n",
      "z= 1\n"
     ]
    }
   ],
   "source": [
    "x= int(input())\n",
    "y= int(input())\n",
    "print(f'x is {x}')\n",
    "print(f'y is {y}')\n",
    "#print(f'(y-x) is {y-x}')\n",
    "print(\"z=\",y-x)\n"
   ]
  },
  {
   "cell_type": "markdown",
   "id": "72e2ba2d",
   "metadata": {},
   "source": [
    "***"
   ]
  },
  {
   "cell_type": "markdown",
   "id": "155f7305",
   "metadata": {},
   "source": [
    "### question 3\n",
    "\n",
    ">\n",
    "> Create a division calculator that takes two values from a user and print two values \n",
    "> - The division of those two values.\n",
    "> - The division of those two values as an integer.\n",
    "\n",
    "    Example 1\n",
    ">input\n",
    ">\n",
    "> x = 10\n",
    ">\n",
    "> y = 2\n",
    "\n",
    "\n",
    ">output\n",
    ">\n",
    ">z = 5\n",
    "\n",
    "    Example 2\n",
    ">input\n",
    ">\n",
    "> x = 11\n",
    ">\n",
    "> y = 2\n",
    "\n",
    "\n",
    ">output\n",
    ">\n",
    ">z = 5"
   ]
  },
  {
   "cell_type": "code",
   "execution_count": 20,
   "id": "d1849f24",
   "metadata": {},
   "outputs": [
    {
     "name": "stdin",
     "output_type": "stream",
     "text": [
      " 10\n",
      " 2\n"
     ]
    },
    {
     "name": "stdout",
     "output_type": "stream",
     "text": [
      "z 5.0\n",
      "5\n"
     ]
    }
   ],
   "source": [
    "x= int(input())\n",
    "y= int(input())\n",
    "z=int(x/y)\n",
    "#print(f'x is {x}')\n",
    "#print(f'y is {y}')\n",
    "#print(f'(x/y) is {x/y}')\n",
    "print(\"z\",x/y)\n",
    "print(int(z))\n"
   ]
  },
  {
   "cell_type": "code",
   "execution_count": 18,
   "id": "cf2cbbd5-30a5-4327-917c-ba93357168f2",
   "metadata": {},
   "outputs": [
    {
     "name": "stdin",
     "output_type": "stream",
     "text": [
      " 11\n",
      " 2\n"
     ]
    },
    {
     "name": "stdout",
     "output_type": "stream",
     "text": [
      "z 5.5\n",
      "5\n"
     ]
    }
   ],
   "source": [
    "x= int(input())\n",
    "y= int(input())\n",
    "z=int(x/y)\n",
    "#print(f'x is {x}')\n",
    "#print(f'y is {y}')\n",
    "#print(f'(x/y) is {x/y}')\n",
    "print(\"z\",x/y)\n",
    "print(int(z))\n"
   ]
  },
  {
   "cell_type": "markdown",
   "id": "a22d4269",
   "metadata": {},
   "source": [
    "***"
   ]
  },
  {
   "cell_type": "markdown",
   "id": "46224617",
   "metadata": {},
   "source": [
    "### question 4\n",
    "\n",
    "> Create a calculator takes three values\n",
    "> - x \"First input number\"\n",
    "> - y \"second input number\"\n",
    "> - operation \"Third input number\"\n",
    ">\n",
    "> make sure to apply the requested operation as needed.\n",
    "> if the operation is outside your defined choices you have to print a warning message\n",
    "\n",
    "    Example 1\n",
    ">input\n",
    ">\n",
    "> x = 5\n",
    ">\n",
    "> y = 6\n",
    ">\n",
    "> operation = sum or +\n",
    ">\n",
    "\n",
    ">output\n",
    ">\n",
    ">z = 11\n",
    "\n",
    "    Example 2\n",
    ">input\n",
    ">\n",
    "> x = 5\n",
    ">\n",
    "> y = 6\n",
    ">\n",
    "> operation = subtract or -\n",
    ">\n",
    "\n",
    ">output\n",
    ">\n",
    ">z = 1\n",
    " \n",
    "    Example 3\n",
    ">input\n",
    ">\n",
    "> x = 5\n",
    ">\n",
    "> y = 6\n",
    ">\n",
    "> operation = multiplication or *\n",
    ">\n",
    "\n",
    ">output\n",
    ">\n",
    ">z = 30\n",
    "\n",
    "    Example 4\n",
    ">input\n",
    ">\n",
    "> x = 50\n",
    ">\n",
    "> y = 10\n",
    ">\n",
    "> operation = division or /\n",
    ">\n",
    "\n",
    ">output\n",
    ">\n",
    ">z = 5\n"
   ]
  },
  {
   "cell_type": "code",
   "execution_count": 10,
   "id": "9455b13e",
   "metadata": {},
   "outputs": [
    {
     "name": "stdin",
     "output_type": "stream",
     "text": [
      " 5\n"
     ]
    },
    {
     "name": "stdout",
     "output_type": "stream",
     "text": [
      "+\n"
     ]
    },
    {
     "name": "stdin",
     "output_type": "stream",
     "text": [
      " 6\n"
     ]
    },
    {
     "name": "stdout",
     "output_type": "stream",
     "text": [
      "operation is 11\n"
     ]
    },
    {
     "name": "stdin",
     "output_type": "stream",
     "text": [
      " 5\n"
     ]
    },
    {
     "name": "stdout",
     "output_type": "stream",
     "text": [
      "-\n"
     ]
    },
    {
     "name": "stdin",
     "output_type": "stream",
     "text": [
      " 6\n"
     ]
    },
    {
     "name": "stdout",
     "output_type": "stream",
     "text": [
      "operation is 1\n"
     ]
    },
    {
     "name": "stdin",
     "output_type": "stream",
     "text": [
      " 5\n"
     ]
    },
    {
     "name": "stdout",
     "output_type": "stream",
     "text": [
      "*\n"
     ]
    },
    {
     "name": "stdin",
     "output_type": "stream",
     "text": [
      " 6\n"
     ]
    },
    {
     "name": "stdout",
     "output_type": "stream",
     "text": [
      "operation is 30\n"
     ]
    },
    {
     "name": "stdin",
     "output_type": "stream",
     "text": [
      " 50\n"
     ]
    },
    {
     "name": "stdout",
     "output_type": "stream",
     "text": [
      "/\n"
     ]
    },
    {
     "name": "stdin",
     "output_type": "stream",
     "text": [
      " 10\n"
     ]
    },
    {
     "name": "stdout",
     "output_type": "stream",
     "text": [
      "operation is 5.0\n"
     ]
    }
   ],
   "source": [
    "x= int(input())\n",
    "print(\"+\")\n",
    "y= int(input())\n",
    "#print(f'x is {x}')\n",
    "#print(f'y is {y}')\n",
    "#print(f'(x+y) is {x+y}')\n",
    "print (\"operation is {}\".format(x+y))\n",
    "x= int(input())\n",
    "print(\"-\")\n",
    "y= int(input())\n",
    "#print(f'x is {x}')\n",
    "#print(f'y is {y}')\n",
    "#print(f'(y-x) is {y=x}')\n",
    "print (\"operation is {}\".format(y-x))\n",
    "x= int(input())\n",
    "print(\"*\")\n",
    "y= int(input())\n",
    "#print(f'x is {x}')\n",
    "#print(f'y is {y}')\n",
    "#print(f'(x*y) is {x*y}')\n",
    "print (\"operation is {}\".format(x*y))\n",
    "x= int(input())\n",
    "print(\"/\")\n",
    "y= int(input())\n",
    "#print(f'x is {x}')\n",
    "#print(f'y is {y}')\n",
    "#print(f'(x/y) is {x/y}')\n",
    "print (\"operation is {}\".format(x/y))\n"
   ]
  },
  {
   "cell_type": "markdown",
   "id": "d984bfac",
   "metadata": {},
   "source": [
    "***"
   ]
  },
  {
   "cell_type": "markdown",
   "id": "b06e3f87",
   "metadata": {},
   "source": [
    "### question 5\n",
    "\n",
    "> Create a calculator takes three values\n",
    "> - x \"First input number\"\n",
    "> - y \"second input number\"\n",
    "> - operation \"Third input\"\n",
    ">\n",
    "> You have to apply as many needed operation, until the user enter closing message \"finish or end\"\n",
    ">\n",
    "> Make sure to apply the requested operation as needed.\n",
    "> If the operation is outside your defined choices you have to print a warning message\n",
    "\n",
    "    Example 1\n",
    ">input\n",
    ">\n",
    "> x = 5\n",
    ">\n",
    "> y = 6\n",
    ">\n",
    "> operation = sum or +\n",
    ">\n",
    "\n",
    ">output\n",
    ">\n",
    ">z = 11\n",
    "\n",
    "    Example 2\n",
    ">input\n",
    ">\n",
    "> x = 5\n",
    ">\n",
    "> y = 6\n",
    ">\n",
    "> operation = subtract or -\n",
    ">\n",
    "\n",
    ">output\n",
    ">\n",
    ">z = 1\n",
    " \n",
    "    Example 3\n",
    ">input\n",
    ">\n",
    "> x = 5\n",
    ">\n",
    "> y = 6\n",
    ">\n",
    "> operation = multiplication or *\n",
    ">\n",
    "\n",
    ">output\n",
    ">\n",
    ">z = 30\n",
    "\n",
    "    Example 4\n",
    ">input\n",
    ">\n",
    "> x = 50\n",
    ">\n",
    "> y = 10\n",
    ">\n",
    "> operation = division or /\n",
    ">\n",
    "\n",
    ">output\n",
    ">\n",
    ">z = 5\n"
   ]
  },
  {
   "cell_type": "code",
   "execution_count": 9,
   "id": "e4347234",
   "metadata": {},
   "outputs": [
    {
     "name": "stdin",
     "output_type": "stream",
     "text": [
      " 5\n"
     ]
    },
    {
     "name": "stdout",
     "output_type": "stream",
     "text": [
      "+\n"
     ]
    },
    {
     "name": "stdin",
     "output_type": "stream",
     "text": [
      " 6\n"
     ]
    },
    {
     "name": "stdout",
     "output_type": "stream",
     "text": [
      "operation is 11\n"
     ]
    },
    {
     "name": "stdin",
     "output_type": "stream",
     "text": [
      " 5\n"
     ]
    },
    {
     "name": "stdout",
     "output_type": "stream",
     "text": [
      "-\n"
     ]
    },
    {
     "name": "stdin",
     "output_type": "stream",
     "text": [
      " 6\n"
     ]
    },
    {
     "name": "stdout",
     "output_type": "stream",
     "text": [
      "operation is 1\n"
     ]
    },
    {
     "name": "stdin",
     "output_type": "stream",
     "text": [
      " 5\n"
     ]
    },
    {
     "name": "stdout",
     "output_type": "stream",
     "text": [
      "*\n"
     ]
    },
    {
     "name": "stdin",
     "output_type": "stream",
     "text": [
      " 6\n"
     ]
    },
    {
     "name": "stdout",
     "output_type": "stream",
     "text": [
      "operation is 30\n"
     ]
    },
    {
     "name": "stdin",
     "output_type": "stream",
     "text": [
      " 50\n"
     ]
    },
    {
     "name": "stdout",
     "output_type": "stream",
     "text": [
      "/\n"
     ]
    },
    {
     "name": "stdin",
     "output_type": "stream",
     "text": [
      " 10\n"
     ]
    },
    {
     "name": "stdout",
     "output_type": "stream",
     "text": [
      "operation is 5.0\n"
     ]
    },
    {
     "name": "stdin",
     "output_type": "stream",
     "text": [
      "  end\n"
     ]
    },
    {
     "name": "stdout",
     "output_type": "stream",
     "text": [
      "\n"
     ]
    }
   ],
   "source": [
    "x= int(input())\n",
    "print(\"+\")\n",
    "y= int(input())\n",
    "#print(f'x is {x}')\n",
    "#print(f'y is {y}')\n",
    "#print(f'(x+y) is {x+y}')\n",
    "print (\"operation is {}\".format(x+y))\n",
    "x= int(input())\n",
    "print(\"-\")\n",
    "y= int(input())\n",
    "#print(f'x is {x}')\n",
    "#print(f'y is {y}')\n",
    "#print(f'(y-x) is {y=x}')\n",
    "print (\"operation is {}\".format(y-x))\n",
    "x= int(input())\n",
    "print(\"*\")\n",
    "y= int(input())\n",
    "#print(f'x is {x}')\n",
    "#print(f'y is {y}')\n",
    "#print(f'(x*y) is {x*y}')\n",
    "print (\"operation is {}\".format(x*y))\n",
    "x= int(input())\n",
    "print(\"/\")\n",
    "y= int(input())\n",
    "#print(f'x is {x}')\n",
    "#print(f'y is {y}')\n",
    "#print(f'(x/y) is {x/y}')\n",
    "print (\"operation is {}\".format(x/y))\n",
    "end=input(\" \")\n",
    "#print(\"end\")\n",
    "print()\n"
   ]
  },
  {
   "cell_type": "markdown",
   "id": "eb8f30d8",
   "metadata": {},
   "source": [
    "***"
   ]
  },
  {
   "cell_type": "markdown",
   "id": "f890ca5b-8f6b-4dc8-9a4b-e1b1590b8831",
   "metadata": {},
   "source": [
    "### Question 6\n",
    "\n",
    "Write python script to print the following shape\n",
    "                "
   ]
  },
  {
   "cell_type": "code",
   "execution_count": null,
   "id": "c4c23da3-b578-4b0a-b313-a4fc739371d0",
   "metadata": {},
   "outputs": [],
   "source": [
    "******************\n",
    "   ***************\n",
    "      ************\n",
    "         *********\n",
    "            ******\n",
    "               ***"
   ]
  },
  {
   "cell_type": "code",
   "execution_count": 21,
   "id": "eeaa90bd-fc32-4db2-b839-fdc88c6bfeed",
   "metadata": {},
   "outputs": [
    {
     "name": "stdout",
     "output_type": "stream",
     "text": [
      "******************\n",
      "   ***************\n",
      "      ************\n",
      "         *********\n",
      "            ******\n",
      "               ***\n"
     ]
    }
   ],
   "source": [
    "print(\"******************\")\n",
    "print(\"   ***************\")\n",
    "print(\"      ************\")\n",
    "print(\"         *********\")\n",
    "print(\"            ******\")\n",
    "print(\"               ***\")"
   ]
  },
  {
   "cell_type": "markdown",
   "id": "45d6fbcb-f237-49ba-bca1-87e31e8c0993",
   "metadata": {},
   "source": [
    "### Question 7\n",
    "Write python script to print the following shape"
   ]
  },
  {
   "cell_type": "code",
   "execution_count": null,
   "id": "81700e77-30da-4ce2-93e4-f45ee432a93a",
   "metadata": {},
   "outputs": [],
   "source": [
    "\n",
    "***\n",
    "******\n",
    "*********\n",
    "************\n",
    "***************"
   ]
  },
  {
   "cell_type": "code",
   "execution_count": 1,
   "id": "6c1c3f0d-3b09-4ba2-b824-0adbadf84615",
   "metadata": {},
   "outputs": [
    {
     "name": "stdout",
     "output_type": "stream",
     "text": [
      "***\n",
      "******\n",
      "*********\n",
      "************\n",
      "***************\n"
     ]
    }
   ],
   "source": [
    "print(\"***\")\n",
    "print(\"******\")\n",
    "print(\"*********\")\n",
    "print(\"************\")\n",
    "print(\"***************\")\n"
   ]
  },
  {
   "cell_type": "markdown",
   "id": "420c5259-c071-4883-9d7f-96b72c2263fd",
   "metadata": {},
   "source": [
    "### Question 8\n",
    "Write python script to print the following shape"
   ]
  },
  {
   "cell_type": "code",
   "execution_count": null,
   "id": "3c80cbe6-1017-491b-a7f6-1520c4f56b15",
   "metadata": {},
   "outputs": [],
   "source": [
    "            *             \n",
    "           ***\n",
    "          *****\n",
    "         *******\n",
    "        *********"
   ]
  },
  {
   "cell_type": "code",
   "execution_count": 2,
   "id": "a6f983d6-d053-4e93-ba85-a977aa5072d3",
   "metadata": {},
   "outputs": [
    {
     "name": "stdout",
     "output_type": "stream",
     "text": [
      "           * \n",
      "          ***\n",
      "         *****\n",
      "        *******\n",
      "       *********\n"
     ]
    }
   ],
   "source": [
    "print(\"           * \")            \n",
    "print(\"          ***\")\n",
    "print(\"         *****\")\n",
    "print(\"        *******\")\n",
    "print(\"       *********\")"
   ]
  },
  {
   "cell_type": "markdown",
   "id": "ee35ca5f-9541-4529-9d71-b0ccd5c5adee",
   "metadata": {},
   "source": [
    "****************"
   ]
  },
  {
   "cell_type": "markdown",
   "id": "004ecfc4",
   "metadata": {},
   "source": [
    "***"
   ]
  },
  {
   "cell_type": "markdown",
   "id": "ebd9abc6-802a-41bb-b917-7148de8f84bf",
   "metadata": {},
   "source": [
    "### question 10\n",
    "\n",
    "Create a random password generator with the following conditions:\n",
    " - Has to be at least 10 characters\n",
    " - Has to have one or more of the special characters\n",
    " - Has to have combination of lower and upper cases letters\n",
    " - Has to have numbers"
   ]
  },
  {
   "cell_type": "code",
   "execution_count": 1,
   "id": "ebdcd71f-8e2b-4348-a91a-944da0c597d1",
   "metadata": {},
   "outputs": [
    {
     "name": "stdout",
     "output_type": "stream",
     "text": [
      "Sh@im@@123\n"
     ]
    }
   ],
   "source": [
    "# shaimaa123\n",
    "print(\"S\",end='')\n",
    "print(\"h\",end='@')\n",
    "print(\"im\",end='@@')\n",
    "print(1,end='')\n",
    "print(2,end='')\n",
    "print(3)\n"
   ]
  },
  {
   "cell_type": "code",
   "execution_count": 4,
   "id": "af32a995-8b69-4e2c-a34f-361342095fb1",
   "metadata": {},
   "outputs": [
    {
     "ename": "NameError",
     "evalue": "name 'random_randrang' is not defined",
     "output_type": "error",
     "traceback": [
      "\u001b[1;31m---------------------------------------------------------------------------\u001b[0m",
      "\u001b[1;31mNameError\u001b[0m                                 Traceback (most recent call last)",
      "Cell \u001b[1;32mIn[4], line 4\u001b[0m\n\u001b[0;32m      1\u001b[0m \u001b[38;5;28;01mimport\u001b[39;00m\u001b[38;5;250m \u001b[39m\u001b[38;5;21;01mrandom\u001b[39;00m\n\u001b[0;32m      2\u001b[0m \u001b[38;5;66;03m#Generate_random_passward\u001b[39;00m\n\u001b[1;32m----> 4\u001b[0m a\u001b[38;5;241m=\u001b[39m\u001b[43mrandom_randrang\u001b[49m[\u001b[38;5;241m1\u001b[39m:\u001b[38;5;241m9\u001b[39m]\n\u001b[0;32m      5\u001b[0m \u001b[38;5;28minput\u001b[39m(a)\n\u001b[0;32m      6\u001b[0m b\u001b[38;5;241m=\u001b[39mrandom_randrang[\u001b[38;5;124m\"\u001b[39m\u001b[38;5;124mA:Z\u001b[39m\u001b[38;5;124m\"\u001b[39m]\n",
      "\u001b[1;31mNameError\u001b[0m: name 'random_randrang' is not defined"
     ]
    }
   ],
   "source": [
    "import random\n",
    "#Generate_random_passward\n",
    "\n",
    "a=random_randrang[1:9]\n",
    "input(a)\n",
    "b=random_randrang[\"A:Z\"]\n",
    "input(b)\n",
    "c=random_randrang[\"a:z\"]\n",
    "input(c)\n",
    "d=\"special characters\"\n",
    "input(d)\n",
    "passward= random_randrang(a,b,c,d)\n",
    "length= random_randrang(10)\n",
    "print(f'sum of{a} and {b} and {c} and {d} is {sum(a,b,c,d)}')"
   ]
  },
  {
   "cell_type": "markdown",
   "id": "b9004989-2328-4d08-95f5-93cd3ab30f41",
   "metadata": {},
   "source": [
    "# Ensure it has at least one character of each"
   ]
  },
  {
   "cell_type": "markdown",
   "id": "8c29b8e9-4ca3-47d2-aa76-d50c9d92bde2",
   "metadata": {},
   "source": [
    "# Using string module"
   ]
  },
  {
   "cell_type": "code",
   "execution_count": null,
   "id": "f6207ebd-818b-4c90-aa16-a9baf0664372",
   "metadata": {},
   "outputs": [],
   "source": []
  }
 ],
 "metadata": {
  "kernelspec": {
   "display_name": "Python 3 (ipykernel)",
   "language": "python",
   "name": "python3"
  },
  "language_info": {
   "codemirror_mode": {
    "name": "ipython",
    "version": 3
   },
   "file_extension": ".py",
   "mimetype": "text/x-python",
   "name": "python",
   "nbconvert_exporter": "python",
   "pygments_lexer": "ipython3",
   "version": "3.13.2"
  }
 },
 "nbformat": 4,
 "nbformat_minor": 5
}
